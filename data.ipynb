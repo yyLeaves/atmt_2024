{
 "cells": [
  {
   "cell_type": "code",
   "execution_count": 37,
   "metadata": {},
   "outputs": [],
   "source": [
    "import pandas as pd\n",
    "import pandas as pd\n",
    "# !pip install datasets\n",
    "from datasets import load_dataset"
   ]
  },
  {
   "cell_type": "code",
   "execution_count": 47,
   "metadata": {},
   "outputs": [],
   "source": [
    "df = pd.read_json(\"hf://datasets/yhavinga/open_subtitles_en_nl/train.jsonl.gz\", lines=True)"
   ]
  },
  {
   "cell_type": "code",
   "execution_count": 48,
   "metadata": {},
   "outputs": [],
   "source": [
    "df = df[['translation']].sample(frac=0.05, random_state=11).reset_index(drop=True)\n",
    "df['en'] = df['translation'].apply(lambda x: x['en'])"
   ]
  },
  {
   "cell_type": "code",
   "execution_count": 49,
   "metadata": {},
   "outputs": [
    {
     "data": {
      "text/html": [
       "<div>\n",
       "<style scoped>\n",
       "    .dataframe tbody tr th:only-of-type {\n",
       "        vertical-align: middle;\n",
       "    }\n",
       "\n",
       "    .dataframe tbody tr th {\n",
       "        vertical-align: top;\n",
       "    }\n",
       "\n",
       "    .dataframe thead th {\n",
       "        text-align: right;\n",
       "    }\n",
       "</style>\n",
       "<table border=\"1\" class=\"dataframe\">\n",
       "  <thead>\n",
       "    <tr style=\"text-align: right;\">\n",
       "      <th></th>\n",
       "      <th>en</th>\n",
       "    </tr>\n",
       "  </thead>\n",
       "  <tbody>\n",
       "    <tr>\n",
       "      <th>0</th>\n",
       "      <td>I've been in hiding ever since. Watching. Wait...</td>\n",
       "    </tr>\n",
       "    <tr>\n",
       "      <th>1</th>\n",
       "      <td>It's kind of hard to buy that Lindsey would co...</td>\n",
       "    </tr>\n",
       "    <tr>\n",
       "      <th>2</th>\n",
       "      <td>It's a plan.</td>\n",
       "    </tr>\n",
       "    <tr>\n",
       "      <th>3</th>\n",
       "      <td>What?</td>\n",
       "    </tr>\n",
       "    <tr>\n",
       "      <th>4</th>\n",
       "      <td>Is my dad... is he back on the island?</td>\n",
       "    </tr>\n",
       "    <tr>\n",
       "      <th>...</th>\n",
       "      <td>...</td>\n",
       "    </tr>\n",
       "    <tr>\n",
       "      <th>152657</th>\n",
       "      <td>Sorry, Clark, but you're dead wrong.</td>\n",
       "    </tr>\n",
       "    <tr>\n",
       "      <th>152658</th>\n",
       "      <td>Anyway, he said that he dropped his wallet in ...</td>\n",
       "    </tr>\n",
       "    <tr>\n",
       "      <th>152659</th>\n",
       "      <td>In fact, except for the actions of a few of yo...</td>\n",
       "    </tr>\n",
       "    <tr>\n",
       "      <th>152660</th>\n",
       "      <td>It changes everything.</td>\n",
       "    </tr>\n",
       "    <tr>\n",
       "      <th>152661</th>\n",
       "      <td>Previously on Dexter...</td>\n",
       "    </tr>\n",
       "  </tbody>\n",
       "</table>\n",
       "<p>152662 rows × 1 columns</p>\n",
       "</div>"
      ],
      "text/plain": [
       "                                                       en\n",
       "0       I've been in hiding ever since. Watching. Wait...\n",
       "1       It's kind of hard to buy that Lindsey would co...\n",
       "2                                            It's a plan.\n",
       "3                                                   What?\n",
       "4                  Is my dad... is he back on the island?\n",
       "...                                                   ...\n",
       "152657               Sorry, Clark, but you're dead wrong.\n",
       "152658  Anyway, he said that he dropped his wallet in ...\n",
       "152659  In fact, except for the actions of a few of yo...\n",
       "152660                             It changes everything.\n",
       "152661                            Previously on Dexter...\n",
       "\n",
       "[152662 rows x 1 columns]"
      ]
     },
     "execution_count": 49,
     "metadata": {},
     "output_type": "execute_result"
    }
   ],
   "source": [
    "df = df.drop(columns=['translation'])\n",
    "df"
   ]
  },
  {
   "cell_type": "code",
   "execution_count": 50,
   "metadata": {},
   "outputs": [
    {
     "data": {
      "text/plain": [
       "<Axes: >"
      ]
     },
     "execution_count": 50,
     "metadata": {},
     "output_type": "execute_result"
    },
    {
     "data": {
      "image/png": "[encoded data removed]",
      "text/plain": [
       "<Figure size 640x480 with 1 Axes>"
      ]
     },
     "metadata": {},
     "output_type": "display_data"
    }
   ],
   "source": [
    "df['en_char'] = df['en'].apply(lambda x: len(x))\n",
    "df['en_char'].hist(bins=100)"
   ]
  },
  {
   "cell_type": "code",
   "execution_count": 51,
   "metadata": {},
   "outputs": [
    {
     "data": {
      "text/html": [
       "<div>\n",
       "<style scoped>\n",
       "    .dataframe tbody tr th:only-of-type {\n",
       "        vertical-align: middle;\n",
       "    }\n",
       "\n",
       "    .dataframe tbody tr th {\n",
       "        vertical-align: top;\n",
       "    }\n",
       "\n",
       "    .dataframe thead th {\n",
       "        text-align: right;\n",
       "    }\n",
       "</style>\n",
       "<table border=\"1\" class=\"dataframe\">\n",
       "  <thead>\n",
       "    <tr style=\"text-align: right;\">\n",
       "      <th></th>\n",
       "      <th>en</th>\n",
       "      <th>en_char</th>\n",
       "    </tr>\n",
       "  </thead>\n",
       "  <tbody>\n",
       "    <tr>\n",
       "      <th>0</th>\n",
       "      <td>I've been in hiding ever since. Watching. Wait...</td>\n",
       "      <td>104</td>\n",
       "    </tr>\n",
       "    <tr>\n",
       "      <th>1</th>\n",
       "      <td>It's kind of hard to buy that Lindsey would co...</td>\n",
       "      <td>134</td>\n",
       "    </tr>\n",
       "    <tr>\n",
       "      <th>2</th>\n",
       "      <td>It's a plan.</td>\n",
       "      <td>12</td>\n",
       "    </tr>\n",
       "    <tr>\n",
       "      <th>3</th>\n",
       "      <td>Is my dad... is he back on the island?</td>\n",
       "      <td>38</td>\n",
       "    </tr>\n",
       "    <tr>\n",
       "      <th>4</th>\n",
       "      <td>I need more mullins.</td>\n",
       "      <td>20</td>\n",
       "    </tr>\n",
       "    <tr>\n",
       "      <th>...</th>\n",
       "      <td>...</td>\n",
       "      <td>...</td>\n",
       "    </tr>\n",
       "    <tr>\n",
       "      <th>120902</th>\n",
       "      <td>Well, why don't you give him a call?</td>\n",
       "      <td>36</td>\n",
       "    </tr>\n",
       "    <tr>\n",
       "      <th>120903</th>\n",
       "      <td>Sorry, Clark, but you're dead wrong.</td>\n",
       "      <td>36</td>\n",
       "    </tr>\n",
       "    <tr>\n",
       "      <th>120904</th>\n",
       "      <td>Anyway, he said that he dropped his wallet in ...</td>\n",
       "      <td>73</td>\n",
       "    </tr>\n",
       "    <tr>\n",
       "      <th>120905</th>\n",
       "      <td>It changes everything.</td>\n",
       "      <td>22</td>\n",
       "    </tr>\n",
       "    <tr>\n",
       "      <th>120906</th>\n",
       "      <td>Previously on Dexter...</td>\n",
       "      <td>23</td>\n",
       "    </tr>\n",
       "  </tbody>\n",
       "</table>\n",
       "<p>120907 rows × 2 columns</p>\n",
       "</div>"
      ],
      "text/plain": [
       "                                                       en  en_char\n",
       "0       I've been in hiding ever since. Watching. Wait...      104\n",
       "1       It's kind of hard to buy that Lindsey would co...      134\n",
       "2                                            It's a plan.       12\n",
       "3                  Is my dad... is he back on the island?       38\n",
       "4                                    I need more mullins.       20\n",
       "...                                                   ...      ...\n",
       "120902               Well, why don't you give him a call?       36\n",
       "120903               Sorry, Clark, but you're dead wrong.       36\n",
       "120904  Anyway, he said that he dropped his wallet in ...       73\n",
       "120905                             It changes everything.       22\n",
       "120906                            Previously on Dexter...       23\n",
       "\n",
       "[120907 rows x 2 columns]"
      ]
     },
     "execution_count": 51,
     "metadata": {},
     "output_type": "execute_result"
    }
   ],
   "source": [
    "df = df[df['en_char'] < 150]\n",
    "df = df[df['en_char'] > 10].reset_index(drop=True)\n",
    "df"
   ]
  },
  {
   "cell_type": "code",
   "execution_count": 52,
   "metadata": {},
   "outputs": [
    {
     "data": {
      "text/html": [
       "<div>\n",
       "<style scoped>\n",
       "    .dataframe tbody tr th:only-of-type {\n",
       "        vertical-align: middle;\n",
       "    }\n",
       "\n",
       "    .dataframe tbody tr th {\n",
       "        vertical-align: top;\n",
       "    }\n",
       "\n",
       "    .dataframe thead th {\n",
       "        text-align: right;\n",
       "    }\n",
       "</style>\n",
       "<table border=\"1\" class=\"dataframe\">\n",
       "  <thead>\n",
       "    <tr style=\"text-align: right;\">\n",
       "      <th></th>\n",
       "      <th>en</th>\n",
       "      <th>en_char</th>\n",
       "    </tr>\n",
       "  </thead>\n",
       "  <tbody>\n",
       "    <tr>\n",
       "      <th>0</th>\n",
       "      <td>I've been in hiding ever since. Watching. Wait...</td>\n",
       "      <td>104</td>\n",
       "    </tr>\n",
       "    <tr>\n",
       "      <th>1</th>\n",
       "      <td>It's kind of hard to buy that Lindsey would co...</td>\n",
       "      <td>134</td>\n",
       "    </tr>\n",
       "    <tr>\n",
       "      <th>2</th>\n",
       "      <td>It's a plan.</td>\n",
       "      <td>12</td>\n",
       "    </tr>\n",
       "    <tr>\n",
       "      <th>3</th>\n",
       "      <td>Is my dad... is he back on the island?</td>\n",
       "      <td>38</td>\n",
       "    </tr>\n",
       "    <tr>\n",
       "      <th>4</th>\n",
       "      <td>I need more mullins.</td>\n",
       "      <td>20</td>\n",
       "    </tr>\n",
       "    <tr>\n",
       "      <th>...</th>\n",
       "      <td>...</td>\n",
       "      <td>...</td>\n",
       "    </tr>\n",
       "    <tr>\n",
       "      <th>120902</th>\n",
       "      <td>Well, why don't you give him a call?</td>\n",
       "      <td>36</td>\n",
       "    </tr>\n",
       "    <tr>\n",
       "      <th>120903</th>\n",
       "      <td>Sorry, Clark, but you're dead wrong.</td>\n",
       "      <td>36</td>\n",
       "    </tr>\n",
       "    <tr>\n",
       "      <th>120904</th>\n",
       "      <td>Anyway, he said that he dropped his wallet in ...</td>\n",
       "      <td>73</td>\n",
       "    </tr>\n",
       "    <tr>\n",
       "      <th>120905</th>\n",
       "      <td>It changes everything.</td>\n",
       "      <td>22</td>\n",
       "    </tr>\n",
       "    <tr>\n",
       "      <th>120906</th>\n",
       "      <td>Previously on Dexter...</td>\n",
       "      <td>23</td>\n",
       "    </tr>\n",
       "  </tbody>\n",
       "</table>\n",
       "<p>120907 rows × 2 columns</p>\n",
       "</div>"
      ],
      "text/plain": [
       "                                                       en  en_char\n",
       "0       I've been in hiding ever since. Watching. Wait...      104\n",
       "1       It's kind of hard to buy that Lindsey would co...      134\n",
       "2                                            It's a plan.       12\n",
       "3                  Is my dad... is he back on the island?       38\n",
       "4                                    I need more mullins.       20\n",
       "...                                                   ...      ...\n",
       "120902               Well, why don't you give him a call?       36\n",
       "120903               Sorry, Clark, but you're dead wrong.       36\n",
       "120904  Anyway, he said that he dropped his wallet in ...       73\n",
       "120905                             It changes everything.       22\n",
       "120906                            Previously on Dexter...       23\n",
       "\n",
       "[120907 rows x 2 columns]"
      ]
     },
     "execution_count": 52,
     "metadata": {},
     "output_type": "execute_result"
    }
   ],
   "source": [
    "df\n"
   ]
  },
  {
   "cell_type": "code",
   "execution_count": 53,
   "metadata": {},
   "outputs": [],
   "source": [
    "with open(\"train_120k\", \"w\") as f:\n",
    "    f.write(\"\\n\".join(df['en'].tolist()))"
   ]
  },
  {
   "cell_type": "code",
   "execution_count": 22,
   "metadata": {},
   "outputs": [],
   "source": [
    "# !python train.py \\\n",
    "# --data data/en-fr/prepared \\\n",
    "# --source-lang en \\\n",
    "# --target-lang fr \\\n",
    "# --save-dir en-fr/checkpoints/ \\\n",
    "# --log-file logs/en-fr_tiny.log \\\n",
    "# --batch-size 256 \\\n",
    "# --lr 0.0012 \\\n",
    "# --patience 5"
   ]
  },
  {
   "cell_type": "code",
   "execution_count": 9,
   "metadata": {},
   "outputs": [],
   "source": [
    "with open('en-fr/raw/train.en', 'r') as f:\n",
    "    en = f.readlines()\n",
    "df_ori = pd.DataFrame(en, columns=['en'])\n",
    "df_ori['en_len'] = df_ori['en'].apply(lambda x: len(x.split()))\n",
    "df_ori['en_char'] = df_ori['en'].apply(lambda x: len(x))"
   ]
  },
  {
   "cell_type": "code",
   "execution_count": 10,
   "metadata": {},
   "outputs": [
    {
     "data": {
      "text/html": [
       "<div>\n",
       "<style scoped>\n",
       "    .dataframe tbody tr th:only-of-type {\n",
       "        vertical-align: middle;\n",
       "    }\n",
       "\n",
       "    .dataframe tbody tr th {\n",
       "        vertical-align: top;\n",
       "    }\n",
       "\n",
       "    .dataframe thead th {\n",
       "        text-align: right;\n",
       "    }\n",
       "</style>\n",
       "<table border=\"1\" class=\"dataframe\">\n",
       "  <thead>\n",
       "    <tr style=\"text-align: right;\">\n",
       "      <th></th>\n",
       "      <th>en</th>\n",
       "      <th>en_len</th>\n",
       "      <th>en_char</th>\n",
       "    </tr>\n",
       "  </thead>\n",
       "  <tbody>\n",
       "    <tr>\n",
       "      <th>0</th>\n",
       "      <td>We need everything.\\n</td>\n",
       "      <td>3</td>\n",
       "      <td>20</td>\n",
       "    </tr>\n",
       "    <tr>\n",
       "      <th>1</th>\n",
       "      <td>It's a small library.\\n</td>\n",
       "      <td>4</td>\n",
       "      <td>22</td>\n",
       "    </tr>\n",
       "    <tr>\n",
       "      <th>2</th>\n",
       "      <td>Girls think much of fashion.\\n</td>\n",
       "      <td>5</td>\n",
       "      <td>29</td>\n",
       "    </tr>\n",
       "    <tr>\n",
       "      <th>3</th>\n",
       "      <td>Snitches get stitches.\\n</td>\n",
       "      <td>3</td>\n",
       "      <td>23</td>\n",
       "    </tr>\n",
       "    <tr>\n",
       "      <th>4</th>\n",
       "      <td>Spare me the details.\\n</td>\n",
       "      <td>4</td>\n",
       "      <td>22</td>\n",
       "    </tr>\n",
       "    <tr>\n",
       "      <th>...</th>\n",
       "      <td>...</td>\n",
       "      <td>...</td>\n",
       "      <td>...</td>\n",
       "    </tr>\n",
       "    <tr>\n",
       "      <th>9995</th>\n",
       "      <td>We chose a hotel near the subway.\\n</td>\n",
       "      <td>7</td>\n",
       "      <td>34</td>\n",
       "    </tr>\n",
       "    <tr>\n",
       "      <th>9996</th>\n",
       "      <td>The dog is sleeping at the foot of the bed.\\n</td>\n",
       "      <td>10</td>\n",
       "      <td>44</td>\n",
       "    </tr>\n",
       "    <tr>\n",
       "      <th>9997</th>\n",
       "      <td>Tom came up with an ingenious idea.\\n</td>\n",
       "      <td>7</td>\n",
       "      <td>36</td>\n",
       "    </tr>\n",
       "    <tr>\n",
       "      <th>9998</th>\n",
       "      <td>The critics shot us down.\\n</td>\n",
       "      <td>5</td>\n",
       "      <td>26</td>\n",
       "    </tr>\n",
       "    <tr>\n",
       "      <th>9999</th>\n",
       "      <td>Tom has to learn Japanese because he's going t...</td>\n",
       "      <td>12</td>\n",
       "      <td>65</td>\n",
       "    </tr>\n",
       "  </tbody>\n",
       "</table>\n",
       "<p>10000 rows × 3 columns</p>\n",
       "</div>"
      ],
      "text/plain": [
       "                                                     en  en_len  en_char\n",
       "0                                 We need everything.\\n       3       20\n",
       "1                               It's a small library.\\n       4       22\n",
       "2                        Girls think much of fashion.\\n       5       29\n",
       "3                              Snitches get stitches.\\n       3       23\n",
       "4                               Spare me the details.\\n       4       22\n",
       "...                                                 ...     ...      ...\n",
       "9995                We chose a hotel near the subway.\\n       7       34\n",
       "9996      The dog is sleeping at the foot of the bed.\\n      10       44\n",
       "9997              Tom came up with an ingenious idea.\\n       7       36\n",
       "9998                        The critics shot us down.\\n       5       26\n",
       "9999  Tom has to learn Japanese because he's going t...      12       65\n",
       "\n",
       "[10000 rows x 3 columns]"
      ]
     },
     "execution_count": 10,
     "metadata": {},
     "output_type": "execute_result"
    }
   ],
   "source": [
    "df_ori"
   ]
  },
  {
   "cell_type": "code",
   "execution_count": 11,
   "metadata": {},
   "outputs": [
    {
     "data": {
      "text/plain": [
       "<Axes: >"
      ]
     },
     "execution_count": 11,
     "metadata": {},
     "output_type": "execute_result"
    },
    {
     "data": {
      "image/png": "[encoded data removed]",
      "text/plain": [
       "<Figure size 640x480 with 1 Axes>"
      ]
     },
     "metadata": {},
     "output_type": "display_data"
    }
   ],
   "source": [
    "df_ori['en_len'].hist(bins=100)"
   ]
  },
  {
   "cell_type": "code",
   "execution_count": 12,
   "metadata": {},
   "outputs": [
    {
     "data": {
      "text/plain": [
       "<Axes: >"
      ]
     },
     "execution_count": 12,
     "metadata": {},
     "output_type": "execute_result"
    },
    {
     "data": {
      "image/png": "[encoded data removed]",
      "text/plain": [
       "<Figure size 640x480 with 1 Axes>"
      ]
     },
     "metadata": {},
     "output_type": "display_data"
    }
   ],
   "source": [
    "df_ori['en_char'].hist(bins=100)"
   ]
  },
  {
   "cell_type": "code",
   "execution_count": 25,
   "metadata": {},
   "outputs": [
    {
     "name": "stdout",
     "output_type": "stream",
     "text": [
      "training truecase model for en\n",
      "preprocessing train split for language en...\n",
      "preprocessing tiny_train split for language en...\n",
      "preprocessing test split for language en...\n",
      "preprocessing valid split for language en...\n",
      "training truecase model for fr\n",
      "preprocessing train split for language fr...\n",
      "preprocessing tiny_train split for language fr...\n",
      "preprocessing test split for language fr...\n",
      "preprocessing valid split for language fr...\n",
      "preparing data for model training...\n",
      "[2024-11-03 12:16:01] COMMAND: /Users/yeyang/Desktop/UZH/ATMT/ass/fr-en/atmt_2024/scripts/../preprocess.py --source-lang en --target-lang fr --dest-dir en-fr/raw/../prepared --train-prefix en-fr/raw/../preprocessed/train --valid-prefix en-fr/raw/../preprocessed/valid --test-prefix en-fr/raw/../preprocessed/test --tiny-train-prefix en-fr/raw/../preprocessed/tiny_train --threshold-src 1 --threshold-tgt 1 --num-words-src 4000 --num-words-tgt 4000\n",
      "[2024-11-03 12:16:01] Arguments: {'source_lang': 'en', 'target_lang': 'fr', 'train_prefix': 'en-fr/raw/../preprocessed/train', 'tiny_train_prefix': 'en-fr/raw/../preprocessed/tiny_train', 'valid_prefix': 'en-fr/raw/../preprocessed/valid', 'test_prefix': 'en-fr/raw/../preprocessed/test', 'dest_dir': 'en-fr/raw/../prepared', 'threshold_src': 1, 'num_words_src': 4000, 'threshold_tgt': 1, 'num_words_tgt': 4000, 'vocab_src': None, 'vocab_trg': None, 'quiet': False, 'log_file': None}\n",
      "[2024-11-03 12:16:01] COMMAND: /Users/yeyang/Desktop/UZH/ATMT/ass/fr-en/atmt_2024/scripts/../preprocess.py --source-lang en --target-lang fr --dest-dir en-fr/raw/../prepared --train-prefix en-fr/raw/../preprocessed/train --valid-prefix en-fr/raw/../preprocessed/valid --test-prefix en-fr/raw/../preprocessed/test --tiny-train-prefix en-fr/raw/../preprocessed/tiny_train --threshold-src 1 --threshold-tgt 1 --num-words-src 4000 --num-words-tgt 4000\n",
      "[2024-11-03 12:16:01] Arguments: {'source_lang': 'en', 'target_lang': 'fr', 'train_prefix': 'en-fr/raw/../preprocessed/train', 'tiny_train_prefix': 'en-fr/raw/../preprocessed/tiny_train', 'valid_prefix': 'en-fr/raw/../preprocessed/valid', 'test_prefix': 'en-fr/raw/../preprocessed/test', 'dest_dir': 'en-fr/raw/../prepared', 'threshold_src': 1, 'num_words_src': 4000, 'threshold_tgt': 1, 'num_words_tgt': 4000, 'vocab_src': None, 'vocab_trg': None, 'quiet': False, 'log_file': None}\n",
      "[2024-11-03 12:16:01] Built a source dictionary (en) with 4000 words\n",
      "[2024-11-03 12:16:01] Built a target dictionary (fr) with 4000 words\n",
      "[2024-11-03 12:16:01] Built a binary dataset for en-fr/raw/../preprocessed/train.en: 10000 sentences, 91000 tokens, 2.430% replaced by unknown token\n",
      "[2024-11-03 12:16:01] Built a binary dataset for en-fr/raw/../preprocessed/tiny_train.en: 1000 sentences, 9142 tokens, 4.627% replaced by unknown token\n",
      "[2024-11-03 12:16:01] Built a binary dataset for en-fr/raw/../preprocessed/valid.en: 500 sentences, 4568 tokens, 4.313% replaced by unknown token\n",
      "[2024-11-03 12:16:11] Built a binary dataset for en-fr/raw/../preprocessed/test.en: 120048 sentences, 1260203 tokens, 8.988% replaced by unknown token\n",
      "[2024-11-03 12:16:12] Built a binary dataset for en-fr/raw/../preprocessed/train.fr: 10000 sentences, 100137 tokens, 4.242% replaced by unknown token\n",
      "[2024-11-03 12:16:12] Built a binary dataset for en-fr/raw/../preprocessed/tiny_train.fr: 1000 sentences, 10029 tokens, 6.621% replaced by unknown token\n",
      "[2024-11-03 12:16:12] Built a binary dataset for en-fr/raw/../preprocessed/valid.fr: 500 sentences, 5037 tokens, 6.154% replaced by unknown token\n",
      "[2024-11-03 12:16:12] Built a binary dataset for en-fr/raw/../preprocessed/test.fr: 500 sentences, 4990 tokens, 6.774% replaced by unknown token\n",
      "done.\n"
     ]
    }
   ],
   "source": [
    "!bash scripts/preprocess_data.sh \\\n",
    "en-fr/raw en fr\n",
    "# add an argument log_file in preprocess.py"
   ]
  },
  {
   "cell_type": "code",
   "execution_count": 57,
   "metadata": {},
   "outputs": [
    {
     "name": "stdout",
     "output_type": "stream",
     "text": [
      "[2024-11-03 12:32:08] COMMAND: translate_fr.py --data en-fr/prepared/ --dicts en-fr/prepared/ --checkpoint-path en-fr/checkpoints/checkpoint_best.pt --output en-fr/\n",
      "[2024-11-03 12:32:08] Arguments: {'cuda': False, 'data': 'en-fr/prepared/', 'source_lang': 'en', 'target_lang': 'fr', 'max_tokens': None, 'batch_size': 1, 'train_on_tiny': False, 'arch': 'lstm', 'max_epoch': 10000, 'clip_norm': 4.0, 'lr': 0.0012, 'patience': 5, 'log_file': 'logs/translate.log', 'save_dir': 'en-fr/checkpoints/', 'restore_file': 'checkpoint_last.pt', 'save_interval': 1, 'no_save': False, 'epoch_checkpoints': False, 'encoder_embed_dim': 64, 'encoder_embed_path': None, 'encoder_hidden_size': 64, 'encoder_num_layers': 1, 'encoder_bidirectional': 'True', 'encoder_dropout_in': 0.25, 'encoder_dropout_out': 0.25, 'decoder_embed_dim': 64, 'decoder_embed_path': None, 'decoder_hidden_size': 128, 'decoder_num_layers': 1, 'decoder_dropout_in': 0.25, 'decoder_dropout_out': 0.25, 'decoder_use_attention': 'True', 'decoder_use_lexical_model': 'False', 'device_id': 0, 'seed': 42, 'dicts': 'en-fr/prepared/', 'checkpoint_path': 'en-fr/checkpoints/checkpoint_best.pt', 'output': 'en-fr/', 'max_len': 128}\n",
      "[2024-11-03 12:32:08] Loaded a source dictionary (en) with 4000 words\n",
      "[2024-11-03 12:32:08] Loaded a target dictionary (fr) with 4000 words\n",
      "[2024-11-03 12:32:08] Loaded a model from checkpoint en-fr/checkpoints/checkpoint_best.pt\n",
      "| Generation:   0%|                       | 6/120048 [00:09<53:03:23,  1.59s/it]^C\n"
     ]
    }
   ],
   "source": [
    "!python translate_fr.py \\\n",
    "    --data en-fr/prepared/ \\\n",
    "    --dicts en-fr/prepared/ \\\n",
    "    --checkpoint-path en-fr/checkpoints/checkpoint_best.pt \\\n",
    "    --output en-fr/ \\\n",
    "    --batch-size 256\n",
    "    # added an argument log_file in translate.py"
   ]
  },
  {
   "cell_type": "code",
   "execution_count": null,
   "metadata": {},
   "outputs": [],
   "source": []
  }
 ],
 "metadata": {
  "kernelspec": {
   "display_name": "atmt311",
   "language": "python",
   "name": "python3"
  },
  "language_info": {
   "codemirror_mode": {
    "name": "ipython",
    "version": 3
   },
   "file_extension": ".py",
   "mimetype": "text/x-python",
   "name": "python",
   "nbconvert_exporter": "python",
   "pygments_lexer": "ipython3",
   "version": "3.11.10"
  }
 },
 "nbformat": 4,
 "nbformat_minor": 2
}
